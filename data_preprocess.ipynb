{
 "cells": [
  {
   "cell_type": "code",
   "execution_count": 9,
   "metadata": {},
   "outputs": [],
   "source": [
    "import os\n",
    "import os.path as osp\n",
    "import pickle\n",
    "import csv\n",
    "import collections\n",
    "\n",
    "import numpy as np\n",
    "import PIL.Image as Image\n",
    "import torch\n",
    "from torch.utils.data import Dataset\n",
    "from torchvision import transforms\n",
    "from torchvision.transforms import Compose, Normalize, Resize\n",
    "import pandas as pd"
   ]
  },
  {
   "cell_type": "code",
   "execution_count": 11,
   "metadata": {},
   "outputs": [
    {
     "data": {
      "text/html": [
       "<div>\n",
       "<style scoped>\n",
       "    .dataframe tbody tr th:only-of-type {\n",
       "        vertical-align: middle;\n",
       "    }\n",
       "\n",
       "    .dataframe tbody tr th {\n",
       "        vertical-align: top;\n",
       "    }\n",
       "\n",
       "    .dataframe thead th {\n",
       "        text-align: right;\n",
       "    }\n",
       "</style>\n",
       "<table border=\"1\" class=\"dataframe\">\n",
       "  <thead>\n",
       "    <tr style=\"text-align: right;\">\n",
       "      <th></th>\n",
       "      <th>filename</th>\n",
       "      <th>label</th>\n",
       "    </tr>\n",
       "  </thead>\n",
       "  <tbody>\n",
       "    <tr>\n",
       "      <th>0</th>\n",
       "      <td>n0193011200000001.jpg</td>\n",
       "      <td>n01930112</td>\n",
       "    </tr>\n",
       "    <tr>\n",
       "      <th>1</th>\n",
       "      <td>n0193011200000004.jpg</td>\n",
       "      <td>n01930112</td>\n",
       "    </tr>\n",
       "    <tr>\n",
       "      <th>2</th>\n",
       "      <td>n0193011200000005.jpg</td>\n",
       "      <td>n01930112</td>\n",
       "    </tr>\n",
       "    <tr>\n",
       "      <th>3</th>\n",
       "      <td>n0193011200000006.jpg</td>\n",
       "      <td>n01930112</td>\n",
       "    </tr>\n",
       "    <tr>\n",
       "      <th>4</th>\n",
       "      <td>n0193011200000008.jpg</td>\n",
       "      <td>n01930112</td>\n",
       "    </tr>\n",
       "    <tr>\n",
       "      <th>...</th>\n",
       "      <td>...</td>\n",
       "      <td>...</td>\n",
       "    </tr>\n",
       "    <tr>\n",
       "      <th>11995</th>\n",
       "      <td>n0761348000001293.jpg</td>\n",
       "      <td>n07613480</td>\n",
       "    </tr>\n",
       "    <tr>\n",
       "      <th>11996</th>\n",
       "      <td>n0761348000001294.jpg</td>\n",
       "      <td>n07613480</td>\n",
       "    </tr>\n",
       "    <tr>\n",
       "      <th>11997</th>\n",
       "      <td>n0761348000001296.jpg</td>\n",
       "      <td>n07613480</td>\n",
       "    </tr>\n",
       "    <tr>\n",
       "      <th>11998</th>\n",
       "      <td>n0761348000001297.jpg</td>\n",
       "      <td>n07613480</td>\n",
       "    </tr>\n",
       "    <tr>\n",
       "      <th>11999</th>\n",
       "      <td>n0761348000001298.jpg</td>\n",
       "      <td>n07613480</td>\n",
       "    </tr>\n",
       "  </tbody>\n",
       "</table>\n",
       "<p>12000 rows × 2 columns</p>\n",
       "</div>"
      ],
      "text/plain": [
       "                    filename      label\n",
       "0      n0193011200000001.jpg  n01930112\n",
       "1      n0193011200000004.jpg  n01930112\n",
       "2      n0193011200000005.jpg  n01930112\n",
       "3      n0193011200000006.jpg  n01930112\n",
       "4      n0193011200000008.jpg  n01930112\n",
       "...                      ...        ...\n",
       "11995  n0761348000001293.jpg  n07613480\n",
       "11996  n0761348000001294.jpg  n07613480\n",
       "11997  n0761348000001296.jpg  n07613480\n",
       "11998  n0761348000001297.jpg  n07613480\n",
       "11999  n0761348000001298.jpg  n07613480\n",
       "\n",
       "[12000 rows x 2 columns]"
      ]
     },
     "execution_count": 11,
     "metadata": {},
     "output_type": "execute_result"
    }
   ],
   "source": [
    "# Reading the csv file given for the mini-imagenet dataset\n",
    "dataset = pd.read_csv('datasets/mini-imagenet/test.csv', low_memory=False)\n",
    "dataset"
   ]
  },
  {
   "cell_type": "code",
   "execution_count": 13,
   "metadata": {},
   "outputs": [
    {
     "data": {
      "text/plain": [
       "array(['n01930112', 'n01981276', 'n02099601', 'n02110063', 'n02110341',\n",
       "       'n02116738', 'n02129165', 'n02219486', 'n02443484', 'n02871525',\n",
       "       'n03127925', 'n03146219', 'n03272010', 'n03544143', 'n03775546',\n",
       "       'n04146614', 'n04149813', 'n04418357', 'n04522168', 'n07613480'],\n",
       "      dtype=object)"
      ]
     },
     "execution_count": 13,
     "metadata": {},
     "output_type": "execute_result"
    }
   ],
   "source": [
    "# Unique classes\n",
    "classes=dataset.label.unique()\n",
    "classes"
   ]
  },
  {
   "cell_type": "code",
   "execution_count": 14,
   "metadata": {},
   "outputs": [
    {
     "name": "stdout",
     "output_type": "stream",
     "text": [
      "['n01930112' 'n01981276' 'n02099601' 'n02110063' 'n02110341'] ['n01930112' 'n01981276' 'n02099601' 'n02110063' 'n02110341' 'n02116738'\n",
      " 'n02129165' 'n02219486' 'n02443484' 'n02871525']\n"
     ]
    }
   ],
   "source": [
    "# Create 2 classes list to form a group of 5 classes and 10 classes respectively\n",
    "classes_5=classes[:5]\n",
    "classes_10=classes[:10]\n",
    "print(classes_5,classes_10)"
   ]
  },
  {
   "cell_type": "code",
   "execution_count": null,
   "metadata": {},
   "outputs": [],
   "source": [
    "dataset_1"
   ]
  }
 ],
 "metadata": {
  "kernelspec": {
   "display_name": "ML_env",
   "language": "python",
   "name": "python3"
  },
  "language_info": {
   "codemirror_mode": {
    "name": "ipython",
    "version": 3
   },
   "file_extension": ".py",
   "mimetype": "text/x-python",
   "name": "python",
   "nbconvert_exporter": "python",
   "pygments_lexer": "ipython3",
   "version": "3.10.9"
  },
  "orig_nbformat": 4
 },
 "nbformat": 4,
 "nbformat_minor": 2
}
